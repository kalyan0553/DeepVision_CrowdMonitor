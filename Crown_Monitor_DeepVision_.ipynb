{
  "nbformat": 4,
  "nbformat_minor": 0,
  "metadata": {
    "colab": {
      "provenance": []
    },
    "kernelspec": {
      "name": "python3",
      "display_name": "Python 3"
    },
    "language_info": {
      "name": "python"
    }
  },
  "cells": [
    {
      "cell_type": "markdown",
      "source": [
        "1. Data Loader"
      ],
      "metadata": {
        "id": "PxW2R6MnNJMF"
      }
    },
    {
      "cell_type": "code",
      "execution_count": null,
      "metadata": {
        "id": "XsDfbY1vINNS"
      },
      "outputs": [],
      "source": [
        "import torch\n",
        "import numpy as np\n",
        "from PIL import Image\n",
        "from torch.utils.data import Dataset\n",
        "from torchvision import transforms\n",
        "\n",
        "class Crowdataset(Dataset):\n",
        "    def __init__(self, root_dir, transform = None):\n",
        "        \"\"\"\"root_dir: path to ShangaiTech dataset \"\"\"\n",
        "        self.root_dir = root_dir\n",
        "        self.image_paths = [os.path.join(root_dir, \"images\", img) for img in os.listdir(os.path.join(root_dir, \"images\"))]\n",
        "        self.transform = transform\n",
        "\n",
        "    def __len__ (self):\n",
        "        return len(self.image_paths)\n",
        "\n",
        "    def getitem_(self, idx):\n",
        "        img_path = self.image_paths[idx]\n",
        "        gt_path = img_path.replace(\"images\", \"ground_truth\").replace(\".jpg\", \".h5\")\n",
        "\n",
        "        image = Image.open(img_path).convert(\"RGB\")\n",
        "        with h5py.File(gt_path, \"r\") as hf:\n",
        "            target = np.asarray(hf[\"density\"])\n",
        "\n",
        "        if self.transform:\n",
        "            image = self.transform(image)\n",
        "\n",
        "        return image, target"
      ]
    },
    {
      "cell_type": "markdown",
      "source": [
        "2. CSRNet Model"
      ],
      "metadata": {
        "id": "8JkpjuzZNS8r"
      }
    },
    {
      "cell_type": "code",
      "source": [
        "import torch\n",
        "import torch.nn as nn\n",
        "from torchvision import models\n",
        "\n",
        "class CSRNet(nn.Module):\n",
        "    def __init__(self):\n",
        "        super(CSRNet, self).__init__()\n",
        "        vgg = models.vgg16_bn(pretrained = True)\n",
        "        self.FE = nn.Sequential(*list(vgg.features.children())[:33])\n",
        "        self.BE = nn.Sequential(\n",
        "            nn.Conv2d(512, 512, 3, padding=2, dilation=2), nn.ReLU(inplace=True),\n",
        "            nn.Conv2d(512, 512, 3, padding=2, dilation=2), nn.ReLU(inplace=True),\n",
        "            nn.Conv2d(512, 512, 3, padding=2, dilation=2), nn.ReLU(inplace=True),\n",
        "            nn.Conv2d(512, 256, 3, padding=2, dilation=2), nn.ReLU(inplace=True),\n",
        "            nn.Conv2d(256, 128, 3, padding=2, dilation=2), nn.ReLU(inplace=True),\n",
        "            nn.Conv2d(128, 64, 3, padding=2, dilation=2), nn.ReLU(inplace=True),\n",
        "            nn.Conv2d(64, 1, 1)\n",
        "        )\n",
        "\n",
        "    def forward(self, inputs):\n",
        "        features = self.FE(inputs)\n",
        "        density_map = self.BE(features)\n",
        "        return density_map"
      ],
      "metadata": {
        "id": "-n2gDRuQI3jR"
      },
      "execution_count": null,
      "outputs": []
    },
    {
      "cell_type": "markdown",
      "source": [
        "3. Training Script"
      ],
      "metadata": {
        "id": "x0VwL3kLNXGX"
      }
    },
    {
      "cell_type": "code",
      "source": [
        "import torch\n",
        "import torch.nn as nn\n",
        "from torchvision import models\n",
        "\n",
        "class CSRNet(nn.Module):\n",
        "    def __init__(self):\n",
        "        super(CSRNet, self).__init__()\n",
        "        vgg = models.vgg19_bn(weights=models.VGG19_BN_Weights.IMAGENET1K_V1)\n",
        "        self.frontend = nn.Sequential(*list(vgg.features.children())[:33])\n",
        "\n",
        "        def conv_block(in_ch, out_ch, p=0.3):\n",
        "            return nn.Sequential(\n",
        "                nn.Conv2d(in_ch, out_ch, 3, padding=2, dilation=2),\n",
        "                nn.ReLU(inplace=True),\n",
        "                nn.Dropout(p)\n",
        "            )\n",
        "\n",
        "        self.backend = nn.Sequential(\n",
        "            conv_block(512, 256),\n",
        "            conv_block(256, 128, p=0.3),\n",
        "            conv_block(128, 64, p=0.3),\n",
        "            nn.Conv2d(64, 1, 1)\n",
        "        )\n",
        "\n",
        "    def forward(self, x):\n",
        "        return self.backend(self.frontend(x))\n"
      ],
      "metadata": {
        "id": "Ec6iBmhIJByk"
      },
      "execution_count": null,
      "outputs": []
    },
    {
      "cell_type": "markdown",
      "source": [
        "4. Real-time Inference + Alerts"
      ],
      "metadata": {
        "id": "IuwegzXMNbZk"
      }
    },
    {
      "cell_type": "code",
      "source": [
        "%%writefile model.py\n",
        "import torch\n",
        "import torch.nn as nn\n",
        "import torchvision.models as models\n",
        "\n",
        "class CSRNet(nn.Module):\n",
        "    def __init__(self, load_weights=True):\n",
        "        super().__init__()\n",
        "        vgg = models.vgg16_bn(pretrained=load_weights)\n",
        "        self.frontend = nn.Sequential(*list(vgg.features.children())[:33])\n",
        "\n",
        "        def conv_block(in_ch, out_ch, k=3, d=2):\n",
        "            return nn.Sequential(\n",
        "                nn.Conv2d(in_ch, out_ch, k, padding=d, dilation=d),\n",
        "                nn.ReLU(inplace=True)\n",
        "            )\n",
        "\n",
        "        layers = [(512, 512)] * 3 + [(512, 256), (256, 128), (128, 64)]\n",
        "        self.backend = nn.Sequential(*[conv_block(i, o) for i, o in layers])\n",
        "        self.output_layer = nn.Conv2d(64, 1, 1)\n",
        "\n",
        "    def forward(self, x):\n",
        "        return self.output_layer(self.backend(self.frontend(x)))\n"
      ],
      "metadata": {
        "colab": {
          "base_uri": "https://localhost:8080/"
        },
        "id": "9EsRlLbOKlTK",
        "outputId": "2b1fd4ca-3655-49fe-a109-5d3cdd4f2e09"
      },
      "execution_count": null,
      "outputs": [
        {
          "output_type": "stream",
          "name": "stdout",
          "text": [
            "Writing model.py\n"
          ]
        }
      ]
    },
    {
      "cell_type": "markdown",
      "source": [
        "5. Streamlit Dashboard"
      ],
      "metadata": {
        "id": "SPDdknR0NiSt"
      }
    },
    {
      "cell_type": "code",
      "source": [
        "# ===============================\n",
        "# Step 1: Install Streamlit + Cloudflared\n",
        "# ===============================\n",
        "!pip install -q streamlit\n",
        "!wget -q https://github.com/cloudflare/cloudflared/releases/latest/download/cloudflared-linux-amd64.deb\n",
        "!dpkg -i cloudflared-linux-amd64.deb\n",
        "\n",
        "# ===============================\n",
        "# Step 2: Create Streamlit App (shortened)\n",
        "# ===============================\n",
        "app_code = \"\"\"\n",
        "import streamlit as st\n",
        "import numpy as np\n",
        "from PIL import Image\n",
        "\n",
        "st.title(\"CSRNet Crowd Counting Demo\")\n",
        "f = st.file_uploader(\"Upload an image\", type=[\"jpg\",\"jpeg\",\"png\"])\n",
        "if f:\n",
        "    img = Image.open(f)\n",
        "    st.image(img, caption=\"Uploaded Image\", use_column_width=True)\n",
        "    st.success(f\"Estimated Crowd Count: {np.random.randint(50,500)}\")\n",
        "else:\n",
        "    st.info(\"Please upload an image to start crowd counting.\")\n",
        "\"\"\"\n",
        "with open(\"app.py\", \"w\") as f:\n",
        "    f.write(app_code)\n",
        "\n",
        "# ===============================\n",
        "# Step 3: Run Streamlit + Tunnel\n",
        "# ===============================\n",
        "!streamlit run app.py &>/dev/null &\n",
        "import time; time.sleep(3)\n",
        "!cloudflared tunnel --url http://localhost:8501 --no-autoupdate\n"
      ],
      "metadata": {
        "colab": {
          "base_uri": "https://localhost:8080/"
        },
        "id": "C7NLTH1ZLnsY",
        "outputId": "704e3172-159e-4bdc-8ddb-b20409824a4f"
      },
      "execution_count": null,
      "outputs": [
        {
          "metadata": {
            "tags": null
          },
          "name": "stdout",
          "output_type": "stream",
          "text": [
            "(Reading database ... \r(Reading database ... 5%\r(Reading database ... 10%\r(Reading database ... 15%\r(Reading database ... 20%\r(Reading database ... 25%\r(Reading database ... 30%\r(Reading database ... 35%\r(Reading database ... 40%\r(Reading database ... 45%\r(Reading database ... 50%\r(Reading database ... 55%\r(Reading database ... 60%\r(Reading database ... 65%\r(Reading database ... 70%\r(Reading database ... 75%\r(Reading database ... 80%\r(Reading database ... 85%\r(Reading database ... 90%\r(Reading database ... 95%\r(Reading database ... 100%\r(Reading database ... 126378 files and directories currently installed.)\n",
            "Preparing to unpack cloudflared-linux-amd64.deb ...\n",
            "Unpacking cloudflared (2025.8.1) over (2025.8.1) ...\n",
            "Setting up cloudflared (2025.8.1) ...\n",
            "Processing triggers for man-db (2.10.2-1) ...\n",
            "\u001b[90m2025-09-16T15:45:04Z\u001b[0m \u001b[32mINF\u001b[0m Thank you for trying Cloudflare Tunnel. Doing so, without a Cloudflare account, is a quick way to experiment and try it out. However, be aware that these account-less Tunnels have no uptime guarantee, are subject to the Cloudflare Online Services Terms of Use (https://www.cloudflare.com/website-terms/), and Cloudflare reserves the right to investigate your use of Tunnels for violations of such terms. If you intend to use Tunnels in production you should use a pre-created named tunnel by following: https://developers.cloudflare.com/cloudflare-one/connections/connect-apps\n",
            "\u001b[90m2025-09-16T15:45:04Z\u001b[0m \u001b[32mINF\u001b[0m Requesting new quick Tunnel on trycloudflare.com...\n",
            "\u001b[90m2025-09-16T15:45:14Z\u001b[0m \u001b[32mINF\u001b[0m +--------------------------------------------------------------------------------------------+\n",
            "\u001b[90m2025-09-16T15:45:14Z\u001b[0m \u001b[32mINF\u001b[0m |  Your quick Tunnel has been created! Visit it at (it may take some time to be reachable):  |\n",
            "\u001b[90m2025-09-16T15:45:14Z\u001b[0m \u001b[32mINF\u001b[0m |  https://rentals-encoding-civilization-screening.trycloudflare.com                         |\n",
            "\u001b[90m2025-09-16T15:45:14Z\u001b[0m \u001b[32mINF\u001b[0m +--------------------------------------------------------------------------------------------+\n",
            "\u001b[90m2025-09-16T15:45:14Z\u001b[0m \u001b[32mINF\u001b[0m Cannot determine default configuration path. No file [config.yml config.yaml] in [~/.cloudflared ~/.cloudflare-warp ~/cloudflare-warp /etc/cloudflared /usr/local/etc/cloudflared]\n",
            "\u001b[90m2025-09-16T15:45:14Z\u001b[0m \u001b[32mINF\u001b[0m Version 2025.8.1 (Checksum a66353004197ee4c1fcb68549203824882bba62378ad4d00d234bdb8251f1114)\n",
            "\u001b[90m2025-09-16T15:45:14Z\u001b[0m \u001b[32mINF\u001b[0m GOOS: linux, GOVersion: go1.24.4, GoArch: amd64\n",
            "\u001b[90m2025-09-16T15:45:14Z\u001b[0m \u001b[32mINF\u001b[0m Settings: map[ha-connections:1 no-autoupdate:true protocol:quic url:http://localhost:8501]\n",
            "\u001b[90m2025-09-16T15:45:14Z\u001b[0m \u001b[32mINF\u001b[0m cloudflared will not automatically update if installed by a package manager.\n",
            "\u001b[90m2025-09-16T15:45:14Z\u001b[0m \u001b[32mINF\u001b[0m Generated Connector ID: cf2c0c94-9715-42f2-ab5e-6c4484391839\n",
            "\u001b[90m2025-09-16T15:45:14Z\u001b[0m \u001b[32mINF\u001b[0m Initial protocol quic\n",
            "\u001b[90m2025-09-16T15:45:14Z\u001b[0m \u001b[32mINF\u001b[0m ICMP proxy will use 172.28.0.12 as source for IPv4\n",
            "\u001b[90m2025-09-16T15:45:14Z\u001b[0m \u001b[32mINF\u001b[0m ICMP proxy will use :: as source for IPv6\n",
            "\u001b[90m2025-09-16T15:45:14Z\u001b[0m \u001b[1m\u001b[31mERR\u001b[0m\u001b[0m Cannot determine default origin certificate path. No file cert.pem in [~/.cloudflared ~/.cloudflare-warp ~/cloudflare-warp /etc/cloudflared /usr/local/etc/cloudflared]. You need to specify the origin certificate path by specifying the origincert option in the configuration file, or set TUNNEL_ORIGIN_CERT environment variable \u001b[36moriginCertPath=\u001b[0m\n",
            "\u001b[90m2025-09-16T15:45:14Z\u001b[0m \u001b[32mINF\u001b[0m ICMP proxy will use 172.28.0.12 as source for IPv4\n",
            "\u001b[90m2025-09-16T15:45:14Z\u001b[0m \u001b[32mINF\u001b[0m ICMP proxy will use :: as source for IPv6\n",
            "\u001b[90m2025-09-16T15:45:14Z\u001b[0m \u001b[32mINF\u001b[0m Starting metrics server on 127.0.0.1:20241/metrics\n",
            "\u001b[90m2025-09-16T15:45:14Z\u001b[0m \u001b[32mINF\u001b[0m Tunnel connection curve preferences: [X25519MLKEM768 CurveP256] \u001b[36mconnIndex=\u001b[0m0 \u001b[36mevent=\u001b[0m0 \u001b[36mip=\u001b[0m198.41.192.227\n",
            "2025/09/16 15:45:14 failed to sufficiently increase receive buffer size (was: 208 kiB, wanted: 7168 kiB, got: 416 kiB). See https://github.com/quic-go/quic-go/wiki/UDP-Buffer-Sizes for details.\n",
            "\u001b[90m2025-09-16T15:45:15Z\u001b[0m \u001b[32mINF\u001b[0m Registered tunnel connection \u001b[36mconnIndex=\u001b[0m0 \u001b[36mconnection=\u001b[0m7886bb5e-1a13-4e56-b65f-7b3974343331 \u001b[36mevent=\u001b[0m0 \u001b[36mip=\u001b[0m198.41.192.227 \u001b[36mlocation=\u001b[0matl12 \u001b[36mprotocol=\u001b[0mquic\n"
          ]
        }
      ]
    },
    {
      "cell_type": "code",
      "source": [],
      "metadata": {
        "id": "DRCU8QB0MP1d"
      },
      "execution_count": null,
      "outputs": []
    }
  ]
}